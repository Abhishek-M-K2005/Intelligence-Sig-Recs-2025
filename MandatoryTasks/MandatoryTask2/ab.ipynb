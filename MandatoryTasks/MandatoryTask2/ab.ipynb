{
 "cells": [
  {
   "cell_type": "markdown",
   "id": "554e865b",
   "metadata": {},
   "source": [
    "I tried to do blind regression. \n",
    "initially tried linear regression (which gave accuracy of 1.23e-7 🥲)\n",
    "polynomial regression made me stop when i checked mse which was 50.. something e something.\n",
    "planned on doing EDA, but i am not so good in data manipulation."
   ]
  },
  {
   "cell_type": "markdown",
   "id": "bcf7717d",
   "metadata": {},
   "source": [
    "edit: As the submission got extended, i now, went and tried for y against x for every y. wait, you will see what i did in this file. i don't know how to explain here. you people can see what i illegibly did in coming cells."
   ]
  },
  {
   "cell_type": "markdown",
   "id": "af19711e",
   "metadata": {},
   "source": [
    "sorry for i erased earlier tryout code. don't know why. but, felt shy to share that code with microscopic accuracy."
   ]
  },
  {
   "cell_type": "code",
   "execution_count": 1,
   "id": "ae4b2923",
   "metadata": {},
   "outputs": [],
   "source": [
    "import pandas as pd\n",
    "import numpy as np"
   ]
  },
  {
   "cell_type": "code",
   "execution_count": 2,
   "id": "4d5fe20f",
   "metadata": {},
   "outputs": [],
   "source": [
    "df = pd.read_csv(\"train_data.csv\")"
   ]
  },
  {
   "cell_type": "code",
   "execution_count": 3,
   "id": "0c602667",
   "metadata": {},
   "outputs": [
    {
     "data": {
      "text/html": [
       "<div>\n",
       "<style scoped>\n",
       "    .dataframe tbody tr th:only-of-type {\n",
       "        vertical-align: middle;\n",
       "    }\n",
       "\n",
       "    .dataframe tbody tr th {\n",
       "        vertical-align: top;\n",
       "    }\n",
       "\n",
       "    .dataframe thead th {\n",
       "        text-align: right;\n",
       "    }\n",
       "</style>\n",
       "<table border=\"1\" class=\"dataframe\">\n",
       "  <thead>\n",
       "    <tr style=\"text-align: right;\">\n",
       "      <th></th>\n",
       "      <th>w</th>\n",
       "      <th>x</th>\n",
       "      <th>y</th>\n",
       "    </tr>\n",
       "  </thead>\n",
       "  <tbody>\n",
       "    <tr>\n",
       "      <th>0</th>\n",
       "      <td>-2.5</td>\n",
       "      <td>-2.784390</td>\n",
       "      <td>0.596025</td>\n",
       "    </tr>\n",
       "    <tr>\n",
       "      <th>1</th>\n",
       "      <td>-2.5</td>\n",
       "      <td>-2.308732</td>\n",
       "      <td>-0.449801</td>\n",
       "    </tr>\n",
       "    <tr>\n",
       "      <th>2</th>\n",
       "      <td>-2.5</td>\n",
       "      <td>-3.869936</td>\n",
       "      <td>-0.301154</td>\n",
       "    </tr>\n",
       "    <tr>\n",
       "      <th>3</th>\n",
       "      <td>-2.5</td>\n",
       "      <td>-2.671678</td>\n",
       "      <td>0.399640</td>\n",
       "    </tr>\n",
       "    <tr>\n",
       "      <th>4</th>\n",
       "      <td>-2.5</td>\n",
       "      <td>6.609344</td>\n",
       "      <td>0.700448</td>\n",
       "    </tr>\n",
       "  </tbody>\n",
       "</table>\n",
       "</div>"
      ],
      "text/plain": [
       "     w         x         y\n",
       "0 -2.5 -2.784390  0.596025\n",
       "1 -2.5 -2.308732 -0.449801\n",
       "2 -2.5 -3.869936 -0.301154\n",
       "3 -2.5 -2.671678  0.399640\n",
       "4 -2.5  6.609344  0.700448"
      ]
     },
     "execution_count": 3,
     "metadata": {},
     "output_type": "execute_result"
    }
   ],
   "source": [
    "df.head()"
   ]
  },
  {
   "cell_type": "code",
   "execution_count": 4,
   "id": "4f1bb996",
   "metadata": {},
   "outputs": [],
   "source": [
    "df2= pd.read_csv(\"test_data.csv\")"
   ]
  },
  {
   "cell_type": "code",
   "execution_count": null,
   "id": "8cb39244",
   "metadata": {},
   "outputs": [
    {
     "data": {
      "text/html": [
       "<div>\n",
       "<style scoped>\n",
       "    .dataframe tbody tr th:only-of-type {\n",
       "        vertical-align: middle;\n",
       "    }\n",
       "\n",
       "    .dataframe tbody tr th {\n",
       "        vertical-align: top;\n",
       "    }\n",
       "\n",
       "    .dataframe thead th {\n",
       "        text-align: right;\n",
       "    }\n",
       "</style>\n",
       "<table border=\"1\" class=\"dataframe\">\n",
       "  <thead>\n",
       "    <tr style=\"text-align: right;\">\n",
       "      <th></th>\n",
       "      <th>w</th>\n",
       "      <th>x</th>\n",
       "      <th>y</th>\n",
       "    </tr>\n",
       "  </thead>\n",
       "  <tbody>\n",
       "    <tr>\n",
       "      <th>count</th>\n",
       "      <td>1.000000e+08</td>\n",
       "      <td>1.000000e+08</td>\n",
       "      <td>1.000000e+08</td>\n",
       "    </tr>\n",
       "    <tr>\n",
       "      <th>mean</th>\n",
       "      <td>0.000000e+00</td>\n",
       "      <td>4.791858e-04</td>\n",
       "      <td>1.496772e-04</td>\n",
       "    </tr>\n",
       "    <tr>\n",
       "      <th>std</th>\n",
       "      <td>1.658312e+00</td>\n",
       "      <td>5.773173e+00</td>\n",
       "      <td>7.109031e-01</td>\n",
       "    </tr>\n",
       "    <tr>\n",
       "      <th>min</th>\n",
       "      <td>-2.500000e+00</td>\n",
       "      <td>-1.000000e+01</td>\n",
       "      <td>-1.249830e+00</td>\n",
       "    </tr>\n",
       "    <tr>\n",
       "      <th>25%</th>\n",
       "      <td>-1.500000e+00</td>\n",
       "      <td>-4.998248e+00</td>\n",
       "      <td>-7.086739e-01</td>\n",
       "    </tr>\n",
       "    <tr>\n",
       "      <th>50%</th>\n",
       "      <td>0.000000e+00</td>\n",
       "      <td>4.332894e-04</td>\n",
       "      <td>3.197931e-04</td>\n",
       "    </tr>\n",
       "    <tr>\n",
       "      <th>75%</th>\n",
       "      <td>1.500000e+00</td>\n",
       "      <td>4.999903e+00</td>\n",
       "      <td>7.089603e-01</td>\n",
       "    </tr>\n",
       "    <tr>\n",
       "      <th>max</th>\n",
       "      <td>2.500000e+00</td>\n",
       "      <td>1.000000e+01</td>\n",
       "      <td>1.259282e+00</td>\n",
       "    </tr>\n",
       "  </tbody>\n",
       "</table>\n",
       "</div>"
      ],
      "text/plain": [
       "                  w             x             y\n",
       "count  1.000000e+08  1.000000e+08  1.000000e+08\n",
       "mean   0.000000e+00  4.791858e-04  1.496772e-04\n",
       "std    1.658312e+00  5.773173e+00  7.109031e-01\n",
       "min   -2.500000e+00 -1.000000e+01 -1.249830e+00\n",
       "25%   -1.500000e+00 -4.998248e+00 -7.086739e-01\n",
       "50%    0.000000e+00  4.332894e-04  3.197931e-04\n",
       "75%    1.500000e+00  4.999903e+00  7.089603e-01\n",
       "max    2.500000e+00  1.000000e+01  1.259282e+00"
      ]
     },
     "execution_count": 5,
     "metadata": {},
     "output_type": "execute_result"
    }
   ],
   "source": [
    "# trying to describe the statistics of the data altogether\n",
    "df.describe()\n"
   ]
  },
  {
   "cell_type": "code",
   "execution_count": null,
   "id": "29f0f1b7",
   "metadata": {},
   "outputs": [],
   "source": []
  },
  {
   "cell_type": "code",
   "execution_count": null,
   "id": "409e16a9",
   "metadata": {},
   "outputs": [
    {
     "data": {
      "text/html": [
       "<div>\n",
       "<style scoped>\n",
       "    .dataframe tbody tr th:only-of-type {\n",
       "        vertical-align: middle;\n",
       "    }\n",
       "\n",
       "    .dataframe tbody tr th {\n",
       "        vertical-align: top;\n",
       "    }\n",
       "\n",
       "    .dataframe thead th {\n",
       "        text-align: right;\n",
       "    }\n",
       "</style>\n",
       "<table border=\"1\" class=\"dataframe\">\n",
       "  <thead>\n",
       "    <tr style=\"text-align: right;\">\n",
       "      <th></th>\n",
       "      <th>w</th>\n",
       "      <th>x</th>\n",
       "      <th>y</th>\n",
       "    </tr>\n",
       "  </thead>\n",
       "  <tbody>\n",
       "    <tr>\n",
       "      <th>count</th>\n",
       "      <td>20000000.00</td>\n",
       "      <td>2.000000e+07</td>\n",
       "      <td>2.000000e+07</td>\n",
       "    </tr>\n",
       "    <tr>\n",
       "      <th>mean</th>\n",
       "      <td>1.25</td>\n",
       "      <td>1.932018e-03</td>\n",
       "      <td>3.217461e-04</td>\n",
       "    </tr>\n",
       "    <tr>\n",
       "      <th>std</th>\n",
       "      <td>0.25</td>\n",
       "      <td>5.773224e+00</td>\n",
       "      <td>7.066617e-01</td>\n",
       "    </tr>\n",
       "    <tr>\n",
       "      <th>min</th>\n",
       "      <td>1.00</td>\n",
       "      <td>-9.999999e+00</td>\n",
       "      <td>-1.234537e+00</td>\n",
       "    </tr>\n",
       "    <tr>\n",
       "      <th>25%</th>\n",
       "      <td>1.00</td>\n",
       "      <td>-4.994879e+00</td>\n",
       "      <td>-7.021526e-01</td>\n",
       "    </tr>\n",
       "    <tr>\n",
       "      <th>50%</th>\n",
       "      <td>1.25</td>\n",
       "      <td>3.493993e-03</td>\n",
       "      <td>7.399303e-04</td>\n",
       "    </tr>\n",
       "    <tr>\n",
       "      <th>75%</th>\n",
       "      <td>1.50</td>\n",
       "      <td>5.001802e+00</td>\n",
       "      <td>7.027593e-01</td>\n",
       "    </tr>\n",
       "    <tr>\n",
       "      <th>max</th>\n",
       "      <td>1.50</td>\n",
       "      <td>9.999999e+00</td>\n",
       "      <td>1.224020e+00</td>\n",
       "    </tr>\n",
       "  </tbody>\n",
       "</table>\n",
       "</div>"
      ],
      "text/plain": [
       "                 w             x             y\n",
       "count  20000000.00  2.000000e+07  2.000000e+07\n",
       "mean          1.25  1.932018e-03  3.217461e-04\n",
       "std           0.25  5.773224e+00  7.066617e-01\n",
       "min           1.00 -9.999999e+00 -1.234537e+00\n",
       "25%           1.00 -4.994879e+00 -7.021526e-01\n",
       "50%           1.25  3.493993e-03  7.399303e-04\n",
       "75%           1.50  5.001802e+00  7.027593e-01\n",
       "max           1.50  9.999999e+00  1.224020e+00"
      ]
     },
     "execution_count": 39,
     "metadata": {},
     "output_type": "execute_result"
    }
   ],
   "source": [
    "#here, one thing i noticed was maximum was around 1.2 and minimum was also around - 1.2\n",
    "#mean tending to 0\n",
    "df[df['w'].between(1, 1.5)].describe()"
   ]
  },
  {
   "cell_type": "code",
   "execution_count": 44,
   "id": "ebcd993d",
   "metadata": {},
   "outputs": [
    {
     "data": {
      "text/html": [
       "<div>\n",
       "<style scoped>\n",
       "    .dataframe tbody tr th:only-of-type {\n",
       "        vertical-align: middle;\n",
       "    }\n",
       "\n",
       "    .dataframe tbody tr th {\n",
       "        vertical-align: top;\n",
       "    }\n",
       "\n",
       "    .dataframe thead th {\n",
       "        text-align: right;\n",
       "    }\n",
       "</style>\n",
       "<table border=\"1\" class=\"dataframe\">\n",
       "  <thead>\n",
       "    <tr style=\"text-align: right;\">\n",
       "      <th></th>\n",
       "      <th>w</th>\n",
       "      <th>x</th>\n",
       "      <th>y</th>\n",
       "    </tr>\n",
       "  </thead>\n",
       "  <tbody>\n",
       "    <tr>\n",
       "      <th>0</th>\n",
       "      <td>-2.5</td>\n",
       "      <td>-2.784390</td>\n",
       "      <td>0.596025</td>\n",
       "    </tr>\n",
       "    <tr>\n",
       "      <th>1</th>\n",
       "      <td>-2.5</td>\n",
       "      <td>-2.308732</td>\n",
       "      <td>-0.449801</td>\n",
       "    </tr>\n",
       "    <tr>\n",
       "      <th>2</th>\n",
       "      <td>-2.5</td>\n",
       "      <td>-3.869936</td>\n",
       "      <td>-0.301154</td>\n",
       "    </tr>\n",
       "    <tr>\n",
       "      <th>3</th>\n",
       "      <td>-2.5</td>\n",
       "      <td>-2.671678</td>\n",
       "      <td>0.399640</td>\n",
       "    </tr>\n",
       "    <tr>\n",
       "      <th>4</th>\n",
       "      <td>-2.5</td>\n",
       "      <td>6.609344</td>\n",
       "      <td>0.700448</td>\n",
       "    </tr>\n",
       "    <tr>\n",
       "      <th>5</th>\n",
       "      <td>-2.5</td>\n",
       "      <td>3.454268</td>\n",
       "      <td>-0.772394</td>\n",
       "    </tr>\n",
       "    <tr>\n",
       "      <th>6</th>\n",
       "      <td>-2.5</td>\n",
       "      <td>0.935185</td>\n",
       "      <td>-0.689399</td>\n",
       "    </tr>\n",
       "    <tr>\n",
       "      <th>7</th>\n",
       "      <td>-2.5</td>\n",
       "      <td>4.101455</td>\n",
       "      <td>0.791680</td>\n",
       "    </tr>\n",
       "    <tr>\n",
       "      <th>8</th>\n",
       "      <td>-2.5</td>\n",
       "      <td>-6.669111</td>\n",
       "      <td>-0.784889</td>\n",
       "    </tr>\n",
       "    <tr>\n",
       "      <th>9</th>\n",
       "      <td>-2.5</td>\n",
       "      <td>7.822688</td>\n",
       "      <td>-0.656696</td>\n",
       "    </tr>\n",
       "    <tr>\n",
       "      <th>10</th>\n",
       "      <td>-2.5</td>\n",
       "      <td>0.614918</td>\n",
       "      <td>-0.921687</td>\n",
       "    </tr>\n",
       "    <tr>\n",
       "      <th>11</th>\n",
       "      <td>-2.5</td>\n",
       "      <td>-9.763839</td>\n",
       "      <td>-0.682502</td>\n",
       "    </tr>\n",
       "    <tr>\n",
       "      <th>12</th>\n",
       "      <td>-2.5</td>\n",
       "      <td>-2.197277</td>\n",
       "      <td>-0.612012</td>\n",
       "    </tr>\n",
       "    <tr>\n",
       "      <th>13</th>\n",
       "      <td>-2.5</td>\n",
       "      <td>-0.769305</td>\n",
       "      <td>0.880288</td>\n",
       "    </tr>\n",
       "    <tr>\n",
       "      <th>14</th>\n",
       "      <td>-2.5</td>\n",
       "      <td>-8.510337</td>\n",
       "      <td>0.595903</td>\n",
       "    </tr>\n",
       "    <tr>\n",
       "      <th>15</th>\n",
       "      <td>-2.5</td>\n",
       "      <td>0.108777</td>\n",
       "      <td>-0.134204</td>\n",
       "    </tr>\n",
       "    <tr>\n",
       "      <th>16</th>\n",
       "      <td>-2.5</td>\n",
       "      <td>-5.826066</td>\n",
       "      <td>0.904023</td>\n",
       "    </tr>\n",
       "    <tr>\n",
       "      <th>17</th>\n",
       "      <td>-2.5</td>\n",
       "      <td>2.416222</td>\n",
       "      <td>0.270558</td>\n",
       "    </tr>\n",
       "    <tr>\n",
       "      <th>18</th>\n",
       "      <td>-2.5</td>\n",
       "      <td>5.447891</td>\n",
       "      <td>-0.809506</td>\n",
       "    </tr>\n",
       "    <tr>\n",
       "      <th>19</th>\n",
       "      <td>-2.5</td>\n",
       "      <td>8.069166</td>\n",
       "      <td>-0.955247</td>\n",
       "    </tr>\n",
       "  </tbody>\n",
       "</table>\n",
       "</div>"
      ],
      "text/plain": [
       "      w         x         y\n",
       "0  -2.5 -2.784390  0.596025\n",
       "1  -2.5 -2.308732 -0.449801\n",
       "2  -2.5 -3.869936 -0.301154\n",
       "3  -2.5 -2.671678  0.399640\n",
       "4  -2.5  6.609344  0.700448\n",
       "5  -2.5  3.454268 -0.772394\n",
       "6  -2.5  0.935185 -0.689399\n",
       "7  -2.5  4.101455  0.791680\n",
       "8  -2.5 -6.669111 -0.784889\n",
       "9  -2.5  7.822688 -0.656696\n",
       "10 -2.5  0.614918 -0.921687\n",
       "11 -2.5 -9.763839 -0.682502\n",
       "12 -2.5 -2.197277 -0.612012\n",
       "13 -2.5 -0.769305  0.880288\n",
       "14 -2.5 -8.510337  0.595903\n",
       "15 -2.5  0.108777 -0.134204\n",
       "16 -2.5 -5.826066  0.904023\n",
       "17 -2.5  2.416222  0.270558\n",
       "18 -2.5  5.447891 -0.809506\n",
       "19 -2.5  8.069166 -0.955247"
      ]
     },
     "execution_count": 44,
     "metadata": {},
     "output_type": "execute_result"
    }
   ],
   "source": [
    "df.head(20)"
   ]
  },
  {
   "cell_type": "code",
   "execution_count": 46,
   "id": "a0866c6f",
   "metadata": {},
   "outputs": [
    {
     "data": {
      "text/plain": [
       "w\n",
       "-2.5    10000000\n",
       "-2.0    10000000\n",
       "-1.5    10000000\n",
       "-1.0    10000000\n",
       "-0.5    10000000\n",
       " 0.5    10000000\n",
       " 1.0    10000000\n",
       " 1.5    10000000\n",
       " 2.0    10000000\n",
       " 2.5    10000000\n",
       "Name: count, dtype: int64"
      ]
     },
     "execution_count": 46,
     "metadata": {},
     "output_type": "execute_result"
    }
   ],
   "source": [
    "df['w'].value_counts()"
   ]
  },
  {
   "cell_type": "markdown",
   "id": "b3f0dcdb",
   "metadata": {},
   "source": [
    "based on observing the value of w was discrete\n"
   ]
  },
  {
   "cell_type": "code",
   "execution_count": 12,
   "id": "51e896e8",
   "metadata": {},
   "outputs": [
    {
     "data": {
      "image/png": "[encoded data removed]",
      "text/plain": [
       "<Figure size 1000x600 with 1 Axes>"
      ]
     },
     "metadata": {},
     "output_type": "display_data"
    },
    {
     "data": {
      "image/png": "[encoded data removed]",
      "text/plain": [
       "<Figure size 1000x600 with 1 Axes>"
      ]
     },
     "metadata": {},
     "output_type": "display_data"
    }
   ],
   "source": [
    "import matplotlib.pyplot as plt\n",
    "\n",
    "# Filter data where w = 1\n",
    "df_w1 = df[df['w'] == 1.5]\n",
    "\n",
    "# Draw histogram for column 'x'\n",
    "plt.figure(figsize=(10, 6))\n",
    "plt.hist(df_w1['x'], bins=50, edgecolor='black', alpha=0.7)\n",
    "plt.xlabel('x')\n",
    "plt.ylabel('Frequency')\n",
    "plt.title('Histogram of x where w = 1')\n",
    "plt.grid(True, alpha=0.3)\n",
    "plt.show()\n",
    "\n",
    "# Or for column 'y'\n",
    "plt.figure(figsize=(10, 6))\n",
    "plt.hist(df_w1['y'], bins=50, edgecolor='black', alpha=0.7)\n",
    "plt.xlabel('y')\n",
    "plt.ylabel('Frequency')\n",
    "plt.title('Histogram of y where w = 1')\n",
    "plt.grid(True, alpha=0.3)\n",
    "plt.show()"
   ]
  },
  {
   "cell_type": "markdown",
   "id": "925f3af2",
   "metadata": {},
   "source": [
    "Leaving realizing that last minute try doesn't work..."
   ]
  },
  {
   "cell_type": "markdown",
   "id": "a1fc94d3",
   "metadata": {},
   "source": [
    "Edit: resuming after extension,"
   ]
  },
  {
   "cell_type": "code",
   "execution_count": 13,
   "id": "6b7848d0",
   "metadata": {},
   "outputs": [
    {
     "data": {
      "image/png": "[encoded data removed]",
      "text/plain": [
       "<Figure size 1000x600 with 1 Axes>"
      ]
     },
     "metadata": {},
     "output_type": "display_data"
    }
   ],
   "source": [
    "import matplotlib.pyplot as plt\n",
    "\n",
    "df_w1 = df[df['w'] == 1]\n",
    "\n",
    "plt.figure(figsize=(10, 6))\n",
    "plt.scatter(df_w1['x'], df_w1['y'], alpha=0.5, s=1)\n",
    "plt.xlabel('x')\n",
    "plt.ylabel('y')\n",
    "plt.title('Scatter plot: x vs y where w = 1')\n",
    "plt.grid(True, alpha=0.3)\n",
    "plt.show()"
   ]
  },
  {
   "cell_type": "code",
   "execution_count": 47,
   "id": "bb6eddc9",
   "metadata": {},
   "outputs": [
    {
     "name": "stderr",
     "output_type": "stream",
     "text": [
      "/var/folders/wd/pbrwgx494d94249zch69pcch0000gn/T/ipykernel_73465/3589374621.py:1: UserWarning: Boolean Series key will be reindexed to match DataFrame index.\n",
      "  df_w1[df_w1['y'].between(-0.1, 0.1)][df_w1['x'].between(2, 5)].head()\n"
     ]
    },
    {
     "data": {
      "text/html": [
       "<div>\n",
       "<style scoped>\n",
       "    .dataframe tbody tr th:only-of-type {\n",
       "        vertical-align: middle;\n",
       "    }\n",
       "\n",
       "    .dataframe tbody tr th {\n",
       "        vertical-align: top;\n",
       "    }\n",
       "\n",
       "    .dataframe thead th {\n",
       "        text-align: right;\n",
       "    }\n",
       "</style>\n",
       "<table border=\"1\" class=\"dataframe\">\n",
       "  <thead>\n",
       "    <tr style=\"text-align: right;\">\n",
       "      <th></th>\n",
       "      <th>w</th>\n",
       "      <th>x</th>\n",
       "      <th>y</th>\n",
       "    </tr>\n",
       "  </thead>\n",
       "  <tbody>\n",
       "    <tr>\n",
       "      <th>60000056</th>\n",
       "      <td>1.0</td>\n",
       "      <td>3.219678</td>\n",
       "      <td>-0.009496</td>\n",
       "    </tr>\n",
       "    <tr>\n",
       "      <th>60000093</th>\n",
       "      <td>1.0</td>\n",
       "      <td>3.210130</td>\n",
       "      <td>-0.092566</td>\n",
       "    </tr>\n",
       "    <tr>\n",
       "      <th>60000241</th>\n",
       "      <td>1.0</td>\n",
       "      <td>2.993373</td>\n",
       "      <td>0.042511</td>\n",
       "    </tr>\n",
       "    <tr>\n",
       "      <th>60000244</th>\n",
       "      <td>1.0</td>\n",
       "      <td>3.253044</td>\n",
       "      <td>-0.069722</td>\n",
       "    </tr>\n",
       "    <tr>\n",
       "      <th>60000336</th>\n",
       "      <td>1.0</td>\n",
       "      <td>3.217077</td>\n",
       "      <td>-0.045901</td>\n",
       "    </tr>\n",
       "  </tbody>\n",
       "</table>\n",
       "</div>"
      ],
      "text/plain": [
       "            w         x         y\n",
       "60000056  1.0  3.219678 -0.009496\n",
       "60000093  1.0  3.210130 -0.092566\n",
       "60000241  1.0  2.993373  0.042511\n",
       "60000244  1.0  3.253044 -0.069722\n",
       "60000336  1.0  3.217077 -0.045901"
      ]
     },
     "execution_count": 47,
     "metadata": {},
     "output_type": "execute_result"
    }
   ],
   "source": [
    "df_w1[df_w1['y'].between(-0.1, 0.1)][df_w1['x'].between(2, 5)].head()"
   ]
  },
  {
   "cell_type": "code",
   "execution_count": 52,
   "id": "7745158a",
   "metadata": {},
   "outputs": [
    {
     "name": "stderr",
     "output_type": "stream",
     "text": [
      "/var/folders/wd/pbrwgx494d94249zch69pcch0000gn/T/ipykernel_73465/1917723340.py:1: UserWarning: Boolean Series key will be reindexed to match DataFrame index.\n",
      "  df_w1[df_w1['y'].between(-0.1, 0.1)][df_w1['x'].between(2.9, 3.2)].mean()['x']\n"
     ]
    },
    {
     "data": {
      "text/plain": [
       "np.float64(3.1104570059798675)"
      ]
     },
     "execution_count": 52,
     "metadata": {},
     "output_type": "execute_result"
    }
   ],
   "source": [
    "df_w1[df_w1['y'].between(-0.1, 0.1)][df_w1['x'].between(2.9, 3.2)].mean()['x']"
   ]
  },
  {
   "cell_type": "code",
   "execution_count": 53,
   "id": "cf0f6dc2",
   "metadata": {},
   "outputs": [
    {
     "name": "stderr",
     "output_type": "stream",
     "text": [
      "/var/folders/wd/pbrwgx494d94249zch69pcch0000gn/T/ipykernel_73465/1818240004.py:1: UserWarning: Boolean Series key will be reindexed to match DataFrame index.\n",
      "  df_w1[df_w1['y'].between(-0.1, 0.1)][df_w1['x'].between(5, 7.5)].head()\n"
     ]
    },
    {
     "data": {
      "text/html": [
       "<div>\n",
       "<style scoped>\n",
       "    .dataframe tbody tr th:only-of-type {\n",
       "        vertical-align: middle;\n",
       "    }\n",
       "\n",
       "    .dataframe tbody tr th {\n",
       "        vertical-align: top;\n",
       "    }\n",
       "\n",
       "    .dataframe thead th {\n",
       "        text-align: right;\n",
       "    }\n",
       "</style>\n",
       "<table border=\"1\" class=\"dataframe\">\n",
       "  <thead>\n",
       "    <tr style=\"text-align: right;\">\n",
       "      <th></th>\n",
       "      <th>w</th>\n",
       "      <th>x</th>\n",
       "      <th>y</th>\n",
       "    </tr>\n",
       "  </thead>\n",
       "  <tbody>\n",
       "    <tr>\n",
       "      <th>60000108</th>\n",
       "      <td>1.0</td>\n",
       "      <td>6.308538</td>\n",
       "      <td>0.099976</td>\n",
       "    </tr>\n",
       "    <tr>\n",
       "      <th>60000259</th>\n",
       "      <td>1.0</td>\n",
       "      <td>6.250164</td>\n",
       "      <td>-0.043560</td>\n",
       "    </tr>\n",
       "    <tr>\n",
       "      <th>60000455</th>\n",
       "      <td>1.0</td>\n",
       "      <td>6.254511</td>\n",
       "      <td>-0.031758</td>\n",
       "    </tr>\n",
       "    <tr>\n",
       "      <th>60000593</th>\n",
       "      <td>1.0</td>\n",
       "      <td>6.318932</td>\n",
       "      <td>0.055241</td>\n",
       "    </tr>\n",
       "    <tr>\n",
       "      <th>60000603</th>\n",
       "      <td>1.0</td>\n",
       "      <td>6.210100</td>\n",
       "      <td>-0.004772</td>\n",
       "    </tr>\n",
       "  </tbody>\n",
       "</table>\n",
       "</div>"
      ],
      "text/plain": [
       "            w         x         y\n",
       "60000108  1.0  6.308538  0.099976\n",
       "60000259  1.0  6.250164 -0.043560\n",
       "60000455  1.0  6.254511 -0.031758\n",
       "60000593  1.0  6.318932  0.055241\n",
       "60000603  1.0  6.210100 -0.004772"
      ]
     },
     "execution_count": 53,
     "metadata": {},
     "output_type": "execute_result"
    }
   ],
   "source": [
    "df_w1[df_w1['y'].between(-0.1, 0.1)][df_w1['x'].between(5, 7.5)].head()"
   ]
  },
  {
   "cell_type": "code",
   "execution_count": 54,
   "id": "ba40620a",
   "metadata": {},
   "outputs": [
    {
     "name": "stderr",
     "output_type": "stream",
     "text": [
      "/var/folders/wd/pbrwgx494d94249zch69pcch0000gn/T/ipykernel_73465/409446414.py:1: UserWarning: Boolean Series key will be reindexed to match DataFrame index.\n",
      "  df_w1[df_w1['y'].between(-0.1, 0.1)][df_w1['x'].between(6.2, 6.4)].mean()['x']\n"
     ]
    },
    {
     "data": {
      "text/plain": [
       "np.float64(6.293466810249204)"
      ]
     },
     "execution_count": 54,
     "metadata": {},
     "output_type": "execute_result"
    }
   ],
   "source": [
    "df_w1[df_w1['y'].between(-0.1, 0.1)][df_w1['x'].between(6.2, 6.4)].mean()['x']"
   ]
  },
  {
   "cell_type": "code",
   "execution_count": 55,
   "id": "7113f7e7",
   "metadata": {},
   "outputs": [
    {
     "data": {
      "text/plain": [
       "3.1830098042693367"
      ]
     },
     "execution_count": 55,
     "metadata": {},
     "output_type": "execute_result"
    }
   ],
   "source": [
    "6.293466810249204 - 3.1104570059798675"
   ]
  },
  {
   "cell_type": "markdown",
   "id": "d631c6cc",
   "metadata": {},
   "source": [
    "approxly pi"
   ]
  },
  {
   "cell_type": "code",
   "execution_count": 56,
   "id": "9ef7bec4",
   "metadata": {},
   "outputs": [
    {
     "data": {
      "image/png": "[encoded data removed]",
      "text/plain": [
       "<Figure size 1000x600 with 1 Axes>"
      ]
     },
     "metadata": {},
     "output_type": "display_data"
    }
   ],
   "source": [
    "import matplotlib.pyplot as plt\n",
    "\n",
    "df_w2 = df[df['w'] == 2]\n",
    "\n",
    "plt.figure(figsize=(10, 6))\n",
    "plt.scatter(df_w2['x'], df_w2['y'], alpha=0.5, s=1)\n",
    "plt.xlabel('x')\n",
    "plt.ylabel('y')\n",
    "plt.title('Scatter plot: x vs y where w = 2')\n",
    "plt.grid(True, alpha=0.3)\n",
    "plt.show()"
   ]
  },
  {
   "cell_type": "code",
   "execution_count": 59,
   "id": "0f60cc36",
   "metadata": {},
   "outputs": [
    {
     "name": "stderr",
     "output_type": "stream",
     "text": [
      "/var/folders/wd/pbrwgx494d94249zch69pcch0000gn/T/ipykernel_73465/2638536570.py:1: UserWarning: Boolean Series key will be reindexed to match DataFrame index.\n",
      "  df_w2[df_w2['y'].between(-0.1, 0.1)][df_w2['x'].between(0.5, 2.5)].head(20)\n"
     ]
    },
    {
     "data": {
      "text/html": [
       "<div>\n",
       "<style scoped>\n",
       "    .dataframe tbody tr th:only-of-type {\n",
       "        vertical-align: middle;\n",
       "    }\n",
       "\n",
       "    .dataframe tbody tr th {\n",
       "        vertical-align: top;\n",
       "    }\n",
       "\n",
       "    .dataframe thead th {\n",
       "        text-align: right;\n",
       "    }\n",
       "</style>\n",
       "<table border=\"1\" class=\"dataframe\">\n",
       "  <thead>\n",
       "    <tr style=\"text-align: right;\">\n",
       "      <th></th>\n",
       "      <th>w</th>\n",
       "      <th>x</th>\n",
       "      <th>y</th>\n",
       "    </tr>\n",
       "  </thead>\n",
       "  <tbody>\n",
       "    <tr>\n",
       "      <th>80000085</th>\n",
       "      <td>2.0</td>\n",
       "      <td>1.521577</td>\n",
       "      <td>0.040283</td>\n",
       "    </tr>\n",
       "    <tr>\n",
       "      <th>80000154</th>\n",
       "      <td>2.0</td>\n",
       "      <td>1.621435</td>\n",
       "      <td>-0.037340</td>\n",
       "    </tr>\n",
       "    <tr>\n",
       "      <th>80000270</th>\n",
       "      <td>2.0</td>\n",
       "      <td>1.549337</td>\n",
       "      <td>-0.004364</td>\n",
       "    </tr>\n",
       "    <tr>\n",
       "      <th>80000807</th>\n",
       "      <td>2.0</td>\n",
       "      <td>1.548486</td>\n",
       "      <td>0.071730</td>\n",
       "    </tr>\n",
       "    <tr>\n",
       "      <th>80000911</th>\n",
       "      <td>2.0</td>\n",
       "      <td>1.539083</td>\n",
       "      <td>0.072990</td>\n",
       "    </tr>\n",
       "    <tr>\n",
       "      <th>80000935</th>\n",
       "      <td>2.0</td>\n",
       "      <td>1.598620</td>\n",
       "      <td>0.014624</td>\n",
       "    </tr>\n",
       "    <tr>\n",
       "      <th>80001231</th>\n",
       "      <td>2.0</td>\n",
       "      <td>1.601921</td>\n",
       "      <td>0.029474</td>\n",
       "    </tr>\n",
       "    <tr>\n",
       "      <th>80001265</th>\n",
       "      <td>2.0</td>\n",
       "      <td>1.525763</td>\n",
       "      <td>0.051444</td>\n",
       "    </tr>\n",
       "    <tr>\n",
       "      <th>80001391</th>\n",
       "      <td>2.0</td>\n",
       "      <td>1.587845</td>\n",
       "      <td>-0.065257</td>\n",
       "    </tr>\n",
       "    <tr>\n",
       "      <th>80001446</th>\n",
       "      <td>2.0</td>\n",
       "      <td>1.595337</td>\n",
       "      <td>-0.059652</td>\n",
       "    </tr>\n",
       "    <tr>\n",
       "      <th>80001465</th>\n",
       "      <td>2.0</td>\n",
       "      <td>1.568596</td>\n",
       "      <td>-0.038314</td>\n",
       "    </tr>\n",
       "    <tr>\n",
       "      <th>80001523</th>\n",
       "      <td>2.0</td>\n",
       "      <td>1.585619</td>\n",
       "      <td>-0.085240</td>\n",
       "    </tr>\n",
       "    <tr>\n",
       "      <th>80001559</th>\n",
       "      <td>2.0</td>\n",
       "      <td>1.617892</td>\n",
       "      <td>-0.045568</td>\n",
       "    </tr>\n",
       "    <tr>\n",
       "      <th>80001851</th>\n",
       "      <td>2.0</td>\n",
       "      <td>1.609070</td>\n",
       "      <td>-0.068682</td>\n",
       "    </tr>\n",
       "    <tr>\n",
       "      <th>80002050</th>\n",
       "      <td>2.0</td>\n",
       "      <td>1.597130</td>\n",
       "      <td>-0.017070</td>\n",
       "    </tr>\n",
       "    <tr>\n",
       "      <th>80002253</th>\n",
       "      <td>2.0</td>\n",
       "      <td>1.608347</td>\n",
       "      <td>-0.078659</td>\n",
       "    </tr>\n",
       "    <tr>\n",
       "      <th>80002355</th>\n",
       "      <td>2.0</td>\n",
       "      <td>1.588134</td>\n",
       "      <td>-0.087364</td>\n",
       "    </tr>\n",
       "    <tr>\n",
       "      <th>80002771</th>\n",
       "      <td>2.0</td>\n",
       "      <td>1.598119</td>\n",
       "      <td>-0.087695</td>\n",
       "    </tr>\n",
       "    <tr>\n",
       "      <th>80002823</th>\n",
       "      <td>2.0</td>\n",
       "      <td>1.541207</td>\n",
       "      <td>0.061326</td>\n",
       "    </tr>\n",
       "    <tr>\n",
       "      <th>80003047</th>\n",
       "      <td>2.0</td>\n",
       "      <td>1.547855</td>\n",
       "      <td>0.029020</td>\n",
       "    </tr>\n",
       "  </tbody>\n",
       "</table>\n",
       "</div>"
      ],
      "text/plain": [
       "            w         x         y\n",
       "80000085  2.0  1.521577  0.040283\n",
       "80000154  2.0  1.621435 -0.037340\n",
       "80000270  2.0  1.549337 -0.004364\n",
       "80000807  2.0  1.548486  0.071730\n",
       "80000911  2.0  1.539083  0.072990\n",
       "80000935  2.0  1.598620  0.014624\n",
       "80001231  2.0  1.601921  0.029474\n",
       "80001265  2.0  1.525763  0.051444\n",
       "80001391  2.0  1.587845 -0.065257\n",
       "80001446  2.0  1.595337 -0.059652\n",
       "80001465  2.0  1.568596 -0.038314\n",
       "80001523  2.0  1.585619 -0.085240\n",
       "80001559  2.0  1.617892 -0.045568\n",
       "80001851  2.0  1.609070 -0.068682\n",
       "80002050  2.0  1.597130 -0.017070\n",
       "80002253  2.0  1.608347 -0.078659\n",
       "80002355  2.0  1.588134 -0.087364\n",
       "80002771  2.0  1.598119 -0.087695\n",
       "80002823  2.0  1.541207  0.061326\n",
       "80003047  2.0  1.547855  0.029020"
      ]
     },
     "execution_count": 59,
     "metadata": {},
     "output_type": "execute_result"
    }
   ],
   "source": [
    "df_w2[df_w2['y'].between(-0.1, 0.1)][df_w2['x'].between(0.5, 2.5)].head(20)"
   ]
  },
  {
   "cell_type": "code",
   "execution_count": 60,
   "id": "756f1530",
   "metadata": {},
   "outputs": [
    {
     "name": "stderr",
     "output_type": "stream",
     "text": [
      "/var/folders/wd/pbrwgx494d94249zch69pcch0000gn/T/ipykernel_73465/2501500265.py:1: UserWarning: Boolean Series key will be reindexed to match DataFrame index.\n",
      "  df_w2[df_w2['y'].between(-0.1, 0.1)][df_w2['x'].between(1.5, 1.7)].mean()['x']\n"
     ]
    },
    {
     "data": {
      "text/plain": [
       "np.float64(1.5730950306381388)"
      ]
     },
     "execution_count": 60,
     "metadata": {},
     "output_type": "execute_result"
    }
   ],
   "source": [
    "df_w2[df_w2['y'].between(-0.1, 0.1)][df_w2['x'].between(1.5, 1.7)].mean()['x']"
   ]
  },
  {
   "cell_type": "code",
   "execution_count": 62,
   "id": "24b46dce",
   "metadata": {},
   "outputs": [
    {
     "name": "stderr",
     "output_type": "stream",
     "text": [
      "/var/folders/wd/pbrwgx494d94249zch69pcch0000gn/T/ipykernel_73465/1769630276.py:1: UserWarning: Boolean Series key will be reindexed to match DataFrame index.\n",
      "  df_w2[df_w2['y'].between(-0.1, 0.1)][df_w2['x'].between(2.5, 4)].head(20)\n"
     ]
    },
    {
     "data": {
      "text/html": [
       "<div>\n",
       "<style scoped>\n",
       "    .dataframe tbody tr th:only-of-type {\n",
       "        vertical-align: middle;\n",
       "    }\n",
       "\n",
       "    .dataframe tbody tr th {\n",
       "        vertical-align: top;\n",
       "    }\n",
       "\n",
       "    .dataframe thead th {\n",
       "        text-align: right;\n",
       "    }\n",
       "</style>\n",
       "<table border=\"1\" class=\"dataframe\">\n",
       "  <thead>\n",
       "    <tr style=\"text-align: right;\">\n",
       "      <th></th>\n",
       "      <th>w</th>\n",
       "      <th>x</th>\n",
       "      <th>y</th>\n",
       "    </tr>\n",
       "  </thead>\n",
       "  <tbody>\n",
       "    <tr>\n",
       "      <th>80000082</th>\n",
       "      <td>2.0</td>\n",
       "      <td>3.104349</td>\n",
       "      <td>-0.069134</td>\n",
       "    </tr>\n",
       "    <tr>\n",
       "      <th>80000769</th>\n",
       "      <td>2.0</td>\n",
       "      <td>3.152817</td>\n",
       "      <td>0.090612</td>\n",
       "    </tr>\n",
       "    <tr>\n",
       "      <th>80000996</th>\n",
       "      <td>2.0</td>\n",
       "      <td>3.179150</td>\n",
       "      <td>0.019365</td>\n",
       "    </tr>\n",
       "    <tr>\n",
       "      <th>80001337</th>\n",
       "      <td>2.0</td>\n",
       "      <td>3.183802</td>\n",
       "      <td>0.081360</td>\n",
       "    </tr>\n",
       "    <tr>\n",
       "      <th>80001392</th>\n",
       "      <td>2.0</td>\n",
       "      <td>3.138272</td>\n",
       "      <td>-0.057852</td>\n",
       "    </tr>\n",
       "    <tr>\n",
       "      <th>80001407</th>\n",
       "      <td>2.0</td>\n",
       "      <td>3.095925</td>\n",
       "      <td>-0.034242</td>\n",
       "    </tr>\n",
       "    <tr>\n",
       "      <th>80001585</th>\n",
       "      <td>2.0</td>\n",
       "      <td>3.211105</td>\n",
       "      <td>0.086901</td>\n",
       "    </tr>\n",
       "    <tr>\n",
       "      <th>80001703</th>\n",
       "      <td>2.0</td>\n",
       "      <td>3.177385</td>\n",
       "      <td>0.091119</td>\n",
       "    </tr>\n",
       "    <tr>\n",
       "      <th>80002017</th>\n",
       "      <td>2.0</td>\n",
       "      <td>3.128523</td>\n",
       "      <td>-0.045008</td>\n",
       "    </tr>\n",
       "    <tr>\n",
       "      <th>80002124</th>\n",
       "      <td>2.0</td>\n",
       "      <td>3.150240</td>\n",
       "      <td>-0.097744</td>\n",
       "    </tr>\n",
       "    <tr>\n",
       "      <th>80002266</th>\n",
       "      <td>2.0</td>\n",
       "      <td>3.156067</td>\n",
       "      <td>-0.006927</td>\n",
       "    </tr>\n",
       "    <tr>\n",
       "      <th>80002282</th>\n",
       "      <td>2.0</td>\n",
       "      <td>3.146067</td>\n",
       "      <td>0.021503</td>\n",
       "    </tr>\n",
       "    <tr>\n",
       "      <th>80002397</th>\n",
       "      <td>2.0</td>\n",
       "      <td>3.112955</td>\n",
       "      <td>-0.026243</td>\n",
       "    </tr>\n",
       "    <tr>\n",
       "      <th>80002559</th>\n",
       "      <td>2.0</td>\n",
       "      <td>3.161878</td>\n",
       "      <td>0.059463</td>\n",
       "    </tr>\n",
       "    <tr>\n",
       "      <th>80002643</th>\n",
       "      <td>2.0</td>\n",
       "      <td>3.127363</td>\n",
       "      <td>0.051130</td>\n",
       "    </tr>\n",
       "    <tr>\n",
       "      <th>80002779</th>\n",
       "      <td>2.0</td>\n",
       "      <td>3.174835</td>\n",
       "      <td>0.050945</td>\n",
       "    </tr>\n",
       "    <tr>\n",
       "      <th>80002880</th>\n",
       "      <td>2.0</td>\n",
       "      <td>3.241031</td>\n",
       "      <td>0.094808</td>\n",
       "    </tr>\n",
       "    <tr>\n",
       "      <th>80002886</th>\n",
       "      <td>2.0</td>\n",
       "      <td>3.191570</td>\n",
       "      <td>0.025401</td>\n",
       "    </tr>\n",
       "    <tr>\n",
       "      <th>80002913</th>\n",
       "      <td>2.0</td>\n",
       "      <td>3.110625</td>\n",
       "      <td>-0.081690</td>\n",
       "    </tr>\n",
       "    <tr>\n",
       "      <th>80003215</th>\n",
       "      <td>2.0</td>\n",
       "      <td>3.177781</td>\n",
       "      <td>0.039901</td>\n",
       "    </tr>\n",
       "  </tbody>\n",
       "</table>\n",
       "</div>"
      ],
      "text/plain": [
       "            w         x         y\n",
       "80000082  2.0  3.104349 -0.069134\n",
       "80000769  2.0  3.152817  0.090612\n",
       "80000996  2.0  3.179150  0.019365\n",
       "80001337  2.0  3.183802  0.081360\n",
       "80001392  2.0  3.138272 -0.057852\n",
       "80001407  2.0  3.095925 -0.034242\n",
       "80001585  2.0  3.211105  0.086901\n",
       "80001703  2.0  3.177385  0.091119\n",
       "80002017  2.0  3.128523 -0.045008\n",
       "80002124  2.0  3.150240 -0.097744\n",
       "80002266  2.0  3.156067 -0.006927\n",
       "80002282  2.0  3.146067  0.021503\n",
       "80002397  2.0  3.112955 -0.026243\n",
       "80002559  2.0  3.161878  0.059463\n",
       "80002643  2.0  3.127363  0.051130\n",
       "80002779  2.0  3.174835  0.050945\n",
       "80002880  2.0  3.241031  0.094808\n",
       "80002886  2.0  3.191570  0.025401\n",
       "80002913  2.0  3.110625 -0.081690\n",
       "80003215  2.0  3.177781  0.039901"
      ]
     },
     "execution_count": 62,
     "metadata": {},
     "output_type": "execute_result"
    }
   ],
   "source": [
    "df_w2[df_w2['y'].between(-0.1, 0.1)][df_w2['x'].between(2.5, 4)].head(20)"
   ]
  },
  {
   "cell_type": "code",
   "execution_count": 63,
   "id": "9219a68e",
   "metadata": {},
   "outputs": [
    {
     "name": "stderr",
     "output_type": "stream",
     "text": [
      "/var/folders/wd/pbrwgx494d94249zch69pcch0000gn/T/ipykernel_73465/2684666618.py:1: UserWarning: Boolean Series key will be reindexed to match DataFrame index.\n",
      "  df_w2[df_w2['y'].between(-0.1, 0.1)][df_w2['x'].between(3.09, 3.25)].mean()['x']\n"
     ]
    },
    {
     "data": {
      "text/plain": [
       "np.float64(3.1483732015338193)"
      ]
     },
     "execution_count": 63,
     "metadata": {},
     "output_type": "execute_result"
    }
   ],
   "source": [
    "df_w2[df_w2['y'].between(-0.1, 0.1)][df_w2['x'].between(3.09, 3.25)].mean()['x']"
   ]
  },
  {
   "cell_type": "code",
   "execution_count": 64,
   "id": "345b3521",
   "metadata": {},
   "outputs": [
    {
     "data": {
      "text/plain": [
       "1.5752781708956805"
      ]
     },
     "execution_count": 64,
     "metadata": {},
     "output_type": "execute_result"
    }
   ],
   "source": [
    "3.1483732015338193 - 1.5730950306381388"
   ]
  },
  {
   "cell_type": "markdown",
   "id": "c1604600",
   "metadata": {},
   "source": [
    "approxly pi/2 means ***y = sin( w * x)***"
   ]
  },
  {
   "cell_type": "code",
   "execution_count": 20,
   "id": "95dd75f7",
   "metadata": {},
   "outputs": [
    {
     "data": {
      "image/png": "[encoded data removed]",
      "text/plain": [
       "<Figure size 1000x600 with 1 Axes>"
      ]
     },
     "metadata": {},
     "output_type": "display_data"
    }
   ],
   "source": [
    "import matplotlib.pyplot as plt\n",
    "\n",
    "df_w2_5 = df[df['w'] == 2.5]\n",
    "\n",
    "plt.figure(figsize=(10, 6))\n",
    "plt.scatter(df_w2_5['x'], df_w2_5['y'], alpha=0.5, s=1)\n",
    "plt.xlabel('x')\n",
    "plt.ylabel('y')\n",
    "plt.title('Scatter plot: x vs y where w = 2')\n",
    "plt.grid(True, alpha=0.3)\n",
    "plt.show()"
   ]
  },
  {
   "cell_type": "code",
   "execution_count": 65,
   "id": "ba253e65",
   "metadata": {},
   "outputs": [
    {
     "name": "stderr",
     "output_type": "stream",
     "text": [
      "/var/folders/wd/pbrwgx494d94249zch69pcch0000gn/T/ipykernel_73465/68422659.py:1: UserWarning: Boolean Series key will be reindexed to match DataFrame index.\n",
      "  df_w2_5[df_w2_5['y'].between(-0.1, 0.1)][df_w2_5['x'].between(1, 2)].head(20)\n"
     ]
    },
    {
     "data": {
      "text/html": [
       "<div>\n",
       "<style scoped>\n",
       "    .dataframe tbody tr th:only-of-type {\n",
       "        vertical-align: middle;\n",
       "    }\n",
       "\n",
       "    .dataframe tbody tr th {\n",
       "        vertical-align: top;\n",
       "    }\n",
       "\n",
       "    .dataframe thead th {\n",
       "        text-align: right;\n",
       "    }\n",
       "</style>\n",
       "<table border=\"1\" class=\"dataframe\">\n",
       "  <thead>\n",
       "    <tr style=\"text-align: right;\">\n",
       "      <th></th>\n",
       "      <th>w</th>\n",
       "      <th>x</th>\n",
       "      <th>y</th>\n",
       "    </tr>\n",
       "  </thead>\n",
       "  <tbody>\n",
       "    <tr>\n",
       "      <th>90000280</th>\n",
       "      <td>2.5</td>\n",
       "      <td>1.269527</td>\n",
       "      <td>0.012358</td>\n",
       "    </tr>\n",
       "    <tr>\n",
       "      <th>90000302</th>\n",
       "      <td>2.5</td>\n",
       "      <td>1.279004</td>\n",
       "      <td>0.020199</td>\n",
       "    </tr>\n",
       "    <tr>\n",
       "      <th>90001317</th>\n",
       "      <td>2.5</td>\n",
       "      <td>1.260365</td>\n",
       "      <td>-0.056858</td>\n",
       "    </tr>\n",
       "    <tr>\n",
       "      <th>90001366</th>\n",
       "      <td>2.5</td>\n",
       "      <td>1.246833</td>\n",
       "      <td>0.097256</td>\n",
       "    </tr>\n",
       "    <tr>\n",
       "      <th>90001466</th>\n",
       "      <td>2.5</td>\n",
       "      <td>1.285007</td>\n",
       "      <td>-0.050217</td>\n",
       "    </tr>\n",
       "    <tr>\n",
       "      <th>90001500</th>\n",
       "      <td>2.5</td>\n",
       "      <td>1.272886</td>\n",
       "      <td>-0.033289</td>\n",
       "    </tr>\n",
       "    <tr>\n",
       "      <th>90001679</th>\n",
       "      <td>2.5</td>\n",
       "      <td>1.232812</td>\n",
       "      <td>0.072396</td>\n",
       "    </tr>\n",
       "    <tr>\n",
       "      <th>90001861</th>\n",
       "      <td>2.5</td>\n",
       "      <td>1.247809</td>\n",
       "      <td>0.014972</td>\n",
       "    </tr>\n",
       "    <tr>\n",
       "      <th>90001953</th>\n",
       "      <td>2.5</td>\n",
       "      <td>1.324535</td>\n",
       "      <td>-0.096469</td>\n",
       "    </tr>\n",
       "    <tr>\n",
       "      <th>90002282</th>\n",
       "      <td>2.5</td>\n",
       "      <td>1.257716</td>\n",
       "      <td>0.022834</td>\n",
       "    </tr>\n",
       "    <tr>\n",
       "      <th>90002294</th>\n",
       "      <td>2.5</td>\n",
       "      <td>1.259715</td>\n",
       "      <td>0.005973</td>\n",
       "    </tr>\n",
       "    <tr>\n",
       "      <th>90002817</th>\n",
       "      <td>2.5</td>\n",
       "      <td>1.277820</td>\n",
       "      <td>-0.055831</td>\n",
       "    </tr>\n",
       "    <tr>\n",
       "      <th>90003007</th>\n",
       "      <td>2.5</td>\n",
       "      <td>1.243222</td>\n",
       "      <td>0.046786</td>\n",
       "    </tr>\n",
       "    <tr>\n",
       "      <th>90003151</th>\n",
       "      <td>2.5</td>\n",
       "      <td>1.303575</td>\n",
       "      <td>-0.064729</td>\n",
       "    </tr>\n",
       "    <tr>\n",
       "      <th>90003198</th>\n",
       "      <td>2.5</td>\n",
       "      <td>1.281806</td>\n",
       "      <td>-0.095914</td>\n",
       "    </tr>\n",
       "    <tr>\n",
       "      <th>90003731</th>\n",
       "      <td>2.5</td>\n",
       "      <td>1.318791</td>\n",
       "      <td>-0.079369</td>\n",
       "    </tr>\n",
       "    <tr>\n",
       "      <th>90003927</th>\n",
       "      <td>2.5</td>\n",
       "      <td>1.237481</td>\n",
       "      <td>0.072478</td>\n",
       "    </tr>\n",
       "    <tr>\n",
       "      <th>90004030</th>\n",
       "      <td>2.5</td>\n",
       "      <td>1.303541</td>\n",
       "      <td>-0.050952</td>\n",
       "    </tr>\n",
       "    <tr>\n",
       "      <th>90004041</th>\n",
       "      <td>2.5</td>\n",
       "      <td>1.207550</td>\n",
       "      <td>0.030451</td>\n",
       "    </tr>\n",
       "    <tr>\n",
       "      <th>90004913</th>\n",
       "      <td>2.5</td>\n",
       "      <td>1.288635</td>\n",
       "      <td>-0.041943</td>\n",
       "    </tr>\n",
       "  </tbody>\n",
       "</table>\n",
       "</div>"
      ],
      "text/plain": [
       "            w         x         y\n",
       "90000280  2.5  1.269527  0.012358\n",
       "90000302  2.5  1.279004  0.020199\n",
       "90001317  2.5  1.260365 -0.056858\n",
       "90001366  2.5  1.246833  0.097256\n",
       "90001466  2.5  1.285007 -0.050217\n",
       "90001500  2.5  1.272886 -0.033289\n",
       "90001679  2.5  1.232812  0.072396\n",
       "90001861  2.5  1.247809  0.014972\n",
       "90001953  2.5  1.324535 -0.096469\n",
       "90002282  2.5  1.257716  0.022834\n",
       "90002294  2.5  1.259715  0.005973\n",
       "90002817  2.5  1.277820 -0.055831\n",
       "90003007  2.5  1.243222  0.046786\n",
       "90003151  2.5  1.303575 -0.064729\n",
       "90003198  2.5  1.281806 -0.095914\n",
       "90003731  2.5  1.318791 -0.079369\n",
       "90003927  2.5  1.237481  0.072478\n",
       "90004030  2.5  1.303541 -0.050952\n",
       "90004041  2.5  1.207550  0.030451\n",
       "90004913  2.5  1.288635 -0.041943"
      ]
     },
     "execution_count": 65,
     "metadata": {},
     "output_type": "execute_result"
    }
   ],
   "source": [
    "df_w2_5[df_w2_5['y'].between(-0.1, 0.1)][df_w2_5['x'].between(1, 2)].head(20)"
   ]
  },
  {
   "cell_type": "code",
   "execution_count": 66,
   "id": "1a0e1a5f",
   "metadata": {},
   "outputs": [
    {
     "name": "stderr",
     "output_type": "stream",
     "text": [
      "/var/folders/wd/pbrwgx494d94249zch69pcch0000gn/T/ipykernel_73465/565620483.py:1: UserWarning: Boolean Series key will be reindexed to match DataFrame index.\n",
      "  df_w2_5[df_w2_5['y'].between(-0.1, 0.1)][df_w2_5['x'].between(1.2, 1.32)].mean()['x']\n"
     ]
    },
    {
     "data": {
      "text/plain": [
       "np.float64(1.2575194561395784)"
      ]
     },
     "execution_count": 66,
     "metadata": {},
     "output_type": "execute_result"
    }
   ],
   "source": [
    "df_w2_5[df_w2_5['y'].between(-0.1, 0.1)][df_w2_5['x'].between(1.2, 1.32)].mean()['x']"
   ]
  },
  {
   "cell_type": "code",
   "execution_count": 67,
   "id": "4a712a95",
   "metadata": {},
   "outputs": [
    {
     "name": "stderr",
     "output_type": "stream",
     "text": [
      "/var/folders/wd/pbrwgx494d94249zch69pcch0000gn/T/ipykernel_73465/2213713015.py:1: UserWarning: Boolean Series key will be reindexed to match DataFrame index.\n",
      "  df_w2_5[df_w2_5['y'].between(-0.1, 0.1)][df_w2_5['x'].between(2.2, 2.6)].head(20)\n"
     ]
    },
    {
     "data": {
      "text/html": [
       "<div>\n",
       "<style scoped>\n",
       "    .dataframe tbody tr th:only-of-type {\n",
       "        vertical-align: middle;\n",
       "    }\n",
       "\n",
       "    .dataframe tbody tr th {\n",
       "        vertical-align: top;\n",
       "    }\n",
       "\n",
       "    .dataframe thead th {\n",
       "        text-align: right;\n",
       "    }\n",
       "</style>\n",
       "<table border=\"1\" class=\"dataframe\">\n",
       "  <thead>\n",
       "    <tr style=\"text-align: right;\">\n",
       "      <th></th>\n",
       "      <th>w</th>\n",
       "      <th>x</th>\n",
       "      <th>y</th>\n",
       "    </tr>\n",
       "  </thead>\n",
       "  <tbody>\n",
       "    <tr>\n",
       "      <th>90000621</th>\n",
       "      <td>2.5</td>\n",
       "      <td>2.492242</td>\n",
       "      <td>-0.076931</td>\n",
       "    </tr>\n",
       "    <tr>\n",
       "      <th>90001368</th>\n",
       "      <td>2.5</td>\n",
       "      <td>2.505245</td>\n",
       "      <td>0.044671</td>\n",
       "    </tr>\n",
       "    <tr>\n",
       "      <th>90002475</th>\n",
       "      <td>2.5</td>\n",
       "      <td>2.538171</td>\n",
       "      <td>0.069232</td>\n",
       "    </tr>\n",
       "    <tr>\n",
       "      <th>90003085</th>\n",
       "      <td>2.5</td>\n",
       "      <td>2.518587</td>\n",
       "      <td>0.009114</td>\n",
       "    </tr>\n",
       "    <tr>\n",
       "      <th>90003200</th>\n",
       "      <td>2.5</td>\n",
       "      <td>2.541885</td>\n",
       "      <td>0.024568</td>\n",
       "    </tr>\n",
       "    <tr>\n",
       "      <th>90003418</th>\n",
       "      <td>2.5</td>\n",
       "      <td>2.495697</td>\n",
       "      <td>0.001744</td>\n",
       "    </tr>\n",
       "    <tr>\n",
       "      <th>90003487</th>\n",
       "      <td>2.5</td>\n",
       "      <td>2.487171</td>\n",
       "      <td>-0.019430</td>\n",
       "    </tr>\n",
       "    <tr>\n",
       "      <th>90003534</th>\n",
       "      <td>2.5</td>\n",
       "      <td>2.544489</td>\n",
       "      <td>0.074314</td>\n",
       "    </tr>\n",
       "    <tr>\n",
       "      <th>90004140</th>\n",
       "      <td>2.5</td>\n",
       "      <td>2.458172</td>\n",
       "      <td>-0.031754</td>\n",
       "    </tr>\n",
       "    <tr>\n",
       "      <th>90004332</th>\n",
       "      <td>2.5</td>\n",
       "      <td>2.483737</td>\n",
       "      <td>-0.054896</td>\n",
       "    </tr>\n",
       "    <tr>\n",
       "      <th>90004385</th>\n",
       "      <td>2.5</td>\n",
       "      <td>2.502267</td>\n",
       "      <td>-0.063366</td>\n",
       "    </tr>\n",
       "    <tr>\n",
       "      <th>90004812</th>\n",
       "      <td>2.5</td>\n",
       "      <td>2.504529</td>\n",
       "      <td>0.005980</td>\n",
       "    </tr>\n",
       "    <tr>\n",
       "      <th>90005325</th>\n",
       "      <td>2.5</td>\n",
       "      <td>2.523510</td>\n",
       "      <td>-0.028147</td>\n",
       "    </tr>\n",
       "    <tr>\n",
       "      <th>90005446</th>\n",
       "      <td>2.5</td>\n",
       "      <td>2.539644</td>\n",
       "      <td>0.073039</td>\n",
       "    </tr>\n",
       "    <tr>\n",
       "      <th>90005536</th>\n",
       "      <td>2.5</td>\n",
       "      <td>2.536273</td>\n",
       "      <td>0.051378</td>\n",
       "    </tr>\n",
       "    <tr>\n",
       "      <th>90005636</th>\n",
       "      <td>2.5</td>\n",
       "      <td>2.513545</td>\n",
       "      <td>0.067476</td>\n",
       "    </tr>\n",
       "    <tr>\n",
       "      <th>90005766</th>\n",
       "      <td>2.5</td>\n",
       "      <td>2.526727</td>\n",
       "      <td>0.015603</td>\n",
       "    </tr>\n",
       "    <tr>\n",
       "      <th>90005978</th>\n",
       "      <td>2.5</td>\n",
       "      <td>2.481782</td>\n",
       "      <td>-0.095238</td>\n",
       "    </tr>\n",
       "    <tr>\n",
       "      <th>90006072</th>\n",
       "      <td>2.5</td>\n",
       "      <td>2.570470</td>\n",
       "      <td>0.093448</td>\n",
       "    </tr>\n",
       "    <tr>\n",
       "      <th>90006177</th>\n",
       "      <td>2.5</td>\n",
       "      <td>2.530461</td>\n",
       "      <td>0.020562</td>\n",
       "    </tr>\n",
       "  </tbody>\n",
       "</table>\n",
       "</div>"
      ],
      "text/plain": [
       "            w         x         y\n",
       "90000621  2.5  2.492242 -0.076931\n",
       "90001368  2.5  2.505245  0.044671\n",
       "90002475  2.5  2.538171  0.069232\n",
       "90003085  2.5  2.518587  0.009114\n",
       "90003200  2.5  2.541885  0.024568\n",
       "90003418  2.5  2.495697  0.001744\n",
       "90003487  2.5  2.487171 -0.019430\n",
       "90003534  2.5  2.544489  0.074314\n",
       "90004140  2.5  2.458172 -0.031754\n",
       "90004332  2.5  2.483737 -0.054896\n",
       "90004385  2.5  2.502267 -0.063366\n",
       "90004812  2.5  2.504529  0.005980\n",
       "90005325  2.5  2.523510 -0.028147\n",
       "90005446  2.5  2.539644  0.073039\n",
       "90005536  2.5  2.536273  0.051378\n",
       "90005636  2.5  2.513545  0.067476\n",
       "90005766  2.5  2.526727  0.015603\n",
       "90005978  2.5  2.481782 -0.095238\n",
       "90006072  2.5  2.570470  0.093448\n",
       "90006177  2.5  2.530461  0.020562"
      ]
     },
     "execution_count": 67,
     "metadata": {},
     "output_type": "execute_result"
    }
   ],
   "source": [
    "df_w2_5[df_w2_5['y'].between(-0.1, 0.1)][df_w2_5['x'].between(2.2, 2.6)].head(20)"
   ]
  },
  {
   "cell_type": "code",
   "execution_count": 68,
   "id": "b7f30a27",
   "metadata": {},
   "outputs": [
    {
     "name": "stderr",
     "output_type": "stream",
     "text": [
      "/var/folders/wd/pbrwgx494d94249zch69pcch0000gn/T/ipykernel_73465/682753051.py:1: UserWarning: Boolean Series key will be reindexed to match DataFrame index.\n",
      "  df_w2_5[df_w2_5['y'].between(-0.1, 0.1)][df_w2_5['x'].between(2.4, 2.6)].mean()['x']\n"
     ]
    },
    {
     "data": {
      "text/plain": [
       "np.float64(2.5132702208747935)"
      ]
     },
     "execution_count": 68,
     "metadata": {},
     "output_type": "execute_result"
    }
   ],
   "source": [
    "df_w2_5[df_w2_5['y'].between(-0.1, 0.1)][df_w2_5['x'].between(2.4, 2.6)].mean()['x']"
   ]
  },
  {
   "cell_type": "code",
   "execution_count": 70,
   "id": "88d113ff",
   "metadata": {},
   "outputs": [
    {
     "data": {
      "text/plain": [
       "3.1393769118380375"
      ]
     },
     "execution_count": 70,
     "metadata": {},
     "output_type": "execute_result"
    }
   ],
   "source": [
    "(2.5132702208747935 - 1.2575194561395784 )* 2.5"
   ]
  },
  {
   "cell_type": "markdown",
   "id": "a74aa55a",
   "metadata": {},
   "source": [
    "approx pi\n",
    "\n",
    "as per the pattern, it is suggesting that y = sin(w * x) it seems."
   ]
  },
  {
   "cell_type": "code",
   "execution_count": 22,
   "id": "da844499",
   "metadata": {},
   "outputs": [],
   "source": [
    "x = df['x'].to_numpy()"
   ]
  },
  {
   "cell_type": "code",
   "execution_count": 23,
   "id": "7cab1156",
   "metadata": {},
   "outputs": [],
   "source": [
    "w = df['w'].to_numpy()"
   ]
  },
  {
   "cell_type": "code",
   "execution_count": 24,
   "id": "93d19866",
   "metadata": {},
   "outputs": [],
   "source": [
    "y_act = df['y'].to_numpy()"
   ]
  },
  {
   "cell_type": "code",
   "execution_count": 34,
   "id": "bda85293",
   "metadata": {},
   "outputs": [],
   "source": [
    "y_pred = np.sin(w * x)"
   ]
  },
  {
   "cell_type": "code",
   "execution_count": 35,
   "id": "27074f3b",
   "metadata": {},
   "outputs": [],
   "source": [
    "import numpy as np"
   ]
  },
  {
   "cell_type": "code",
   "execution_count": null,
   "id": "1473b24e",
   "metadata": {},
   "outputs": [
    {
     "name": "stdout",
     "output_type": "stream",
     "text": [
      "0.9950523397226373\n"
     ]
    }
   ],
   "source": [
    "y_true = np.array(y_act)\n",
    "y_pred = np.array(y_pred)\n",
    "\n",
    "total = np.sum((y_act - np.mean(y_act))**2)\n",
    "res = np.sum((y_act - y_pred) ** 2)\n",
    "\n",
    "print(1 -(res / total))\n",
    "\n",
    "    "
   ]
  },
  {
   "cell_type": "markdown",
   "id": "55cdca26",
   "metadata": {},
   "source": [
    "99.505 is the accuracy"
   ]
  },
  {
   "cell_type": "code",
   "execution_count": 73,
   "id": "b076e757",
   "metadata": {},
   "outputs": [],
   "source": [
    "x_test = df2['x'].to_numpy()\n",
    "w_test = df2['w'].to_numpy()"
   ]
  },
  {
   "cell_type": "code",
   "execution_count": 74,
   "id": "2ac2c5b9",
   "metadata": {},
   "outputs": [
    {
     "data": {
      "text/plain": [
       "array([ 0.97253051,  0.63193836, -0.96364649, ...,  0.31671769,\n",
       "        0.04386668,  0.7379707 ], shape=(100000000,))"
      ]
     },
     "execution_count": 74,
     "metadata": {},
     "output_type": "execute_result"
    }
   ],
   "source": [
    "y_test_pred = np.sin(w_test * x_test)\n",
    "y_test_pred"
   ]
  },
  {
   "cell_type": "markdown",
   "id": "c03baa20",
   "metadata": {},
   "source": [
    "this is what i did. as i was not much handy with matplotlib. i. tried some of the implementation myself. some were given by claude"
   ]
  }
 ],
 "metadata": {
  "kernelspec": {
   "display_name": "tf_env",
   "language": "python",
   "name": "python3"
  },
  "language_info": {
   "codemirror_mode": {
    "name": "ipython",
    "version": 3
   },
   "file_extension": ".py",
   "mimetype": "text/x-python",
   "name": "python",
   "nbconvert_exporter": "python",
   "pygments_lexer": "ipython3",
   "version": "3.12.12"
  }
 },
 "nbformat": 4,
 "nbformat_minor": 5
}
