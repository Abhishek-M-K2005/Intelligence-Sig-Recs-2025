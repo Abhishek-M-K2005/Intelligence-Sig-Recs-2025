{
 "cells": [
  {
   "cell_type": "markdown",
   "id": "554e865b",
   "metadata": {},
   "source": [
    "I tried to do blind regression. \n",
    "initially tried linear regression (which gave accuracy of 1.23e-7 🥲)\n",
    "polynomial regression made me stop when i checked mse which was 50.. something e something.\n",
    "planned on doing EDA, but i am not so good in data manipulation."
   ]
  },
  {
   "cell_type": "code",
   "execution_count": 2,
   "id": "ae4b2923",
   "metadata": {},
   "outputs": [],
   "source": [
    "import pandas as pd\n",
    "import numpy as np"
   ]
  },
  {
   "cell_type": "code",
   "execution_count": 3,
   "id": "4d5fe20f",
   "metadata": {},
   "outputs": [],
   "source": [
    "df = pd.read_csv(\"train_data.csv\")"
   ]
  },
  {
   "cell_type": "code",
   "execution_count": 4,
   "id": "4f1bb996",
   "metadata": {},
   "outputs": [],
   "source": [
    "df2= pd.read_csv(\"test_data.csv\")"
   ]
  },
  {
   "cell_type": "code",
   "execution_count": 5,
   "id": "8cb39244",
   "metadata": {},
   "outputs": [
    {
     "data": {
      "text/html": [
       "<div>\n",
       "<style scoped>\n",
       "    .dataframe tbody tr th:only-of-type {\n",
       "        vertical-align: middle;\n",
       "    }\n",
       "\n",
       "    .dataframe tbody tr th {\n",
       "        vertical-align: top;\n",
       "    }\n",
       "\n",
       "    .dataframe thead th {\n",
       "        text-align: right;\n",
       "    }\n",
       "</style>\n",
       "<table border=\"1\" class=\"dataframe\">\n",
       "  <thead>\n",
       "    <tr style=\"text-align: right;\">\n",
       "      <th></th>\n",
       "      <th>w</th>\n",
       "      <th>x</th>\n",
       "      <th>y</th>\n",
       "    </tr>\n",
       "  </thead>\n",
       "  <tbody>\n",
       "    <tr>\n",
       "      <th>count</th>\n",
       "      <td>1.000000e+08</td>\n",
       "      <td>1.000000e+08</td>\n",
       "      <td>1.000000e+08</td>\n",
       "    </tr>\n",
       "    <tr>\n",
       "      <th>mean</th>\n",
       "      <td>0.000000e+00</td>\n",
       "      <td>4.791858e-04</td>\n",
       "      <td>1.496772e-04</td>\n",
       "    </tr>\n",
       "    <tr>\n",
       "      <th>std</th>\n",
       "      <td>1.658312e+00</td>\n",
       "      <td>5.773173e+00</td>\n",
       "      <td>7.109031e-01</td>\n",
       "    </tr>\n",
       "    <tr>\n",
       "      <th>min</th>\n",
       "      <td>-2.500000e+00</td>\n",
       "      <td>-1.000000e+01</td>\n",
       "      <td>-1.249830e+00</td>\n",
       "    </tr>\n",
       "    <tr>\n",
       "      <th>25%</th>\n",
       "      <td>-1.500000e+00</td>\n",
       "      <td>-4.998248e+00</td>\n",
       "      <td>-7.086739e-01</td>\n",
       "    </tr>\n",
       "    <tr>\n",
       "      <th>50%</th>\n",
       "      <td>0.000000e+00</td>\n",
       "      <td>4.332894e-04</td>\n",
       "      <td>3.197931e-04</td>\n",
       "    </tr>\n",
       "    <tr>\n",
       "      <th>75%</th>\n",
       "      <td>1.500000e+00</td>\n",
       "      <td>4.999903e+00</td>\n",
       "      <td>7.089603e-01</td>\n",
       "    </tr>\n",
       "    <tr>\n",
       "      <th>max</th>\n",
       "      <td>2.500000e+00</td>\n",
       "      <td>1.000000e+01</td>\n",
       "      <td>1.259282e+00</td>\n",
       "    </tr>\n",
       "  </tbody>\n",
       "</table>\n",
       "</div>"
      ],
      "text/plain": [
       "                  w             x             y\n",
       "count  1.000000e+08  1.000000e+08  1.000000e+08\n",
       "mean   0.000000e+00  4.791858e-04  1.496772e-04\n",
       "std    1.658312e+00  5.773173e+00  7.109031e-01\n",
       "min   -2.500000e+00 -1.000000e+01 -1.249830e+00\n",
       "25%   -1.500000e+00 -4.998248e+00 -7.086739e-01\n",
       "50%    0.000000e+00  4.332894e-04  3.197931e-04\n",
       "75%    1.500000e+00  4.999903e+00  7.089603e-01\n",
       "max    2.500000e+00  1.000000e+01  1.259282e+00"
      ]
     },
     "execution_count": 5,
     "metadata": {},
     "output_type": "execute_result"
    }
   ],
   "source": [
    "df.describe()\n"
   ]
  },
  {
   "cell_type": "code",
   "execution_count": 6,
   "id": "4d98b4f3",
   "metadata": {},
   "outputs": [
    {
     "name": "stdout",
     "output_type": "stream",
     "text": [
      "Defaulting to user installation because normal site-packages is not writeable\n",
      "Requirement already satisfied: ydata-profiling in /Users/abhishekmarutikarennavar/Library/Python/3.9/lib/python/site-packages (4.17.0)\n",
      "Requirement already satisfied: scipy<1.16,>=1.4.1 in /Users/abhishekmarutikarennavar/Library/Python/3.9/lib/python/site-packages (from ydata-profiling) (1.13.1)\n",
      "Requirement already satisfied: pandas!=1.4.0,<3.0,>1.1 in /Users/abhishekmarutikarennavar/Library/Python/3.9/lib/python/site-packages (from ydata-profiling) (2.3.0)\n",
      "Requirement already satisfied: matplotlib<=3.10,>=3.5 in /Users/abhishekmarutikarennavar/Library/Python/3.9/lib/python/site-packages (from ydata-profiling) (3.9.4)\n",
      "Requirement already satisfied: pydantic>=2 in /Users/abhishekmarutikarennavar/Library/Python/3.9/lib/python/site-packages (from ydata-profiling) (2.12.2)\n",
      "Requirement already satisfied: PyYAML<6.1,>=5.0.0 in /Users/abhishekmarutikarennavar/Library/Python/3.9/lib/python/site-packages (from ydata-profiling) (6.0.2)\n",
      "Requirement already satisfied: jinja2<3.2,>=2.11.1 in /Users/abhishekmarutikarennavar/Library/Python/3.9/lib/python/site-packages (from ydata-profiling) (3.1.4)\n",
      "Requirement already satisfied: visions<0.8.2,>=0.7.5 in /Users/abhishekmarutikarennavar/Library/Python/3.9/lib/python/site-packages (from visions[type_image_path]<0.8.2,>=0.7.5->ydata-profiling) (0.8.1)\n",
      "Requirement already satisfied: numpy<2.2,>=1.16.0 in /Users/abhishekmarutikarennavar/Library/Python/3.9/lib/python/site-packages (from ydata-profiling) (2.0.2)\n",
      "Requirement already satisfied: minify-html>=0.15.0 in /Users/abhishekmarutikarennavar/Library/Python/3.9/lib/python/site-packages (from ydata-profiling) (0.16.4)\n",
      "Requirement already satisfied: filetype>=1.0.0 in /Users/abhishekmarutikarennavar/Library/Python/3.9/lib/python/site-packages (from ydata-profiling) (1.2.0)\n",
      "Requirement already satisfied: phik<0.13,>=0.11.1 in /Users/abhishekmarutikarennavar/Library/Python/3.9/lib/python/site-packages (from ydata-profiling) (0.12.5)\n",
      "Requirement already satisfied: requests<3,>=2.24.0 in /Users/abhishekmarutikarennavar/Library/Python/3.9/lib/python/site-packages (from ydata-profiling) (2.32.3)\n",
      "Requirement already satisfied: tqdm<5,>=4.48.2 in /Users/abhishekmarutikarennavar/Library/Python/3.9/lib/python/site-packages (from ydata-profiling) (4.67.1)\n",
      "Requirement already satisfied: seaborn<0.14,>=0.10.1 in /Users/abhishekmarutikarennavar/Library/Python/3.9/lib/python/site-packages (from ydata-profiling) (0.13.2)\n",
      "Requirement already satisfied: multimethod<2,>=1.4 in /Users/abhishekmarutikarennavar/Library/Python/3.9/lib/python/site-packages (from ydata-profiling) (1.12)\n",
      "Requirement already satisfied: statsmodels<1,>=0.13.2 in /Users/abhishekmarutikarennavar/Library/Python/3.9/lib/python/site-packages (from ydata-profiling) (0.14.5)\n",
      "Requirement already satisfied: typeguard<5,>=3 in /Users/abhishekmarutikarennavar/Library/Python/3.9/lib/python/site-packages (from ydata-profiling) (4.4.4)\n",
      "Requirement already satisfied: imagehash==4.3.1 in /Users/abhishekmarutikarennavar/Library/Python/3.9/lib/python/site-packages (from ydata-profiling) (4.3.1)\n",
      "Requirement already satisfied: wordcloud>=1.9.3 in /Users/abhishekmarutikarennavar/Library/Python/3.9/lib/python/site-packages (from ydata-profiling) (1.9.4)\n",
      "Requirement already satisfied: dacite>=1.8 in /Users/abhishekmarutikarennavar/Library/Python/3.9/lib/python/site-packages (from ydata-profiling) (1.9.2)\n",
      "Requirement already satisfied: numba<=0.61,>=0.56.0 in /Users/abhishekmarutikarennavar/Library/Python/3.9/lib/python/site-packages (from ydata-profiling) (0.60.0)\n",
      "Requirement already satisfied: PyWavelets in /Users/abhishekmarutikarennavar/Library/Python/3.9/lib/python/site-packages (from imagehash==4.3.1->ydata-profiling) (1.6.0)\n",
      "Requirement already satisfied: pillow in /Users/abhishekmarutikarennavar/Library/Python/3.9/lib/python/site-packages (from imagehash==4.3.1->ydata-profiling) (11.0.0)\n",
      "Requirement already satisfied: MarkupSafe>=2.0 in /Users/abhishekmarutikarennavar/Library/Python/3.9/lib/python/site-packages (from jinja2<3.2,>=2.11.1->ydata-profiling) (3.0.2)\n",
      "Requirement already satisfied: contourpy>=1.0.1 in /Users/abhishekmarutikarennavar/Library/Python/3.9/lib/python/site-packages (from matplotlib<=3.10,>=3.5->ydata-profiling) (1.3.0)\n",
      "Requirement already satisfied: cycler>=0.10 in /Users/abhishekmarutikarennavar/Library/Python/3.9/lib/python/site-packages (from matplotlib<=3.10,>=3.5->ydata-profiling) (0.12.1)\n",
      "Requirement already satisfied: fonttools>=4.22.0 in /Users/abhishekmarutikarennavar/Library/Python/3.9/lib/python/site-packages (from matplotlib<=3.10,>=3.5->ydata-profiling) (4.55.8)\n",
      "Requirement already satisfied: kiwisolver>=1.3.1 in /Users/abhishekmarutikarennavar/Library/Python/3.9/lib/python/site-packages (from matplotlib<=3.10,>=3.5->ydata-profiling) (1.4.7)\n",
      "Requirement already satisfied: packaging>=20.0 in /Users/abhishekmarutikarennavar/Library/Python/3.9/lib/python/site-packages (from matplotlib<=3.10,>=3.5->ydata-profiling) (24.2)\n",
      "Requirement already satisfied: pyparsing>=2.3.1 in /Users/abhishekmarutikarennavar/Library/Python/3.9/lib/python/site-packages (from matplotlib<=3.10,>=3.5->ydata-profiling) (3.2.1)\n",
      "Requirement already satisfied: python-dateutil>=2.7 in /Users/abhishekmarutikarennavar/Library/Python/3.9/lib/python/site-packages (from matplotlib<=3.10,>=3.5->ydata-profiling) (2.9.0.post0)\n",
      "Requirement already satisfied: importlib-resources>=3.2.0 in /Users/abhishekmarutikarennavar/Library/Python/3.9/lib/python/site-packages (from matplotlib<=3.10,>=3.5->ydata-profiling) (6.5.2)\n",
      "Requirement already satisfied: llvmlite<0.44,>=0.43.0dev0 in /Users/abhishekmarutikarennavar/Library/Python/3.9/lib/python/site-packages (from numba<=0.61,>=0.56.0->ydata-profiling) (0.43.0)\n",
      "Requirement already satisfied: pytz>=2020.1 in /Users/abhishekmarutikarennavar/Library/Python/3.9/lib/python/site-packages (from pandas!=1.4.0,<3.0,>1.1->ydata-profiling) (2025.2)\n",
      "Requirement already satisfied: tzdata>=2022.7 in /Users/abhishekmarutikarennavar/Library/Python/3.9/lib/python/site-packages (from pandas!=1.4.0,<3.0,>1.1->ydata-profiling) (2025.2)\n",
      "Requirement already satisfied: joblib>=0.14.1 in /Users/abhishekmarutikarennavar/Library/Python/3.9/lib/python/site-packages (from phik<0.13,>=0.11.1->ydata-profiling) (1.5.1)\n",
      "Requirement already satisfied: charset-normalizer<4,>=2 in /Users/abhishekmarutikarennavar/Library/Python/3.9/lib/python/site-packages (from requests<3,>=2.24.0->ydata-profiling) (3.4.2)\n",
      "Requirement already satisfied: idna<4,>=2.5 in /Users/abhishekmarutikarennavar/Library/Python/3.9/lib/python/site-packages (from requests<3,>=2.24.0->ydata-profiling) (3.10)\n",
      "Requirement already satisfied: urllib3<3,>=1.21.1 in /Users/abhishekmarutikarennavar/Library/Python/3.9/lib/python/site-packages (from requests<3,>=2.24.0->ydata-profiling) (2.4.0)\n",
      "Requirement already satisfied: certifi>=2017.4.17 in /Users/abhishekmarutikarennavar/Library/Python/3.9/lib/python/site-packages (from requests<3,>=2.24.0->ydata-profiling) (2025.4.26)\n",
      "Requirement already satisfied: patsy>=0.5.6 in /Users/abhishekmarutikarennavar/Library/Python/3.9/lib/python/site-packages (from statsmodels<1,>=0.13.2->ydata-profiling) (1.0.2)\n",
      "Requirement already satisfied: importlib_metadata>=3.6 in /Users/abhishekmarutikarennavar/Library/Python/3.9/lib/python/site-packages (from typeguard<5,>=3->ydata-profiling) (8.5.0)\n",
      "Requirement already satisfied: typing_extensions>=4.14.0 in /Users/abhishekmarutikarennavar/Library/Python/3.9/lib/python/site-packages (from typeguard<5,>=3->ydata-profiling) (4.15.0)\n",
      "Requirement already satisfied: attrs>=19.3.0 in /Users/abhishekmarutikarennavar/Library/Python/3.9/lib/python/site-packages (from visions<0.8.2,>=0.7.5->visions[type_image_path]<0.8.2,>=0.7.5->ydata-profiling) (25.3.0)\n",
      "Requirement already satisfied: networkx>=2.4 in /Users/abhishekmarutikarennavar/Library/Python/3.9/lib/python/site-packages (from visions<0.8.2,>=0.7.5->visions[type_image_path]<0.8.2,>=0.7.5->ydata-profiling) (3.2.1)\n",
      "Requirement already satisfied: puremagic in /Users/abhishekmarutikarennavar/Library/Python/3.9/lib/python/site-packages (from visions<0.8.2,>=0.7.5->visions[type_image_path]<0.8.2,>=0.7.5->ydata-profiling) (1.30)\n",
      "Requirement already satisfied: zipp>=3.20 in /Users/abhishekmarutikarennavar/Library/Python/3.9/lib/python/site-packages (from importlib_metadata>=3.6->typeguard<5,>=3->ydata-profiling) (3.21.0)\n",
      "Requirement already satisfied: annotated-types>=0.6.0 in /Users/abhishekmarutikarennavar/Library/Python/3.9/lib/python/site-packages (from pydantic>=2->ydata-profiling) (0.7.0)\n",
      "Requirement already satisfied: pydantic-core==2.41.4 in /Users/abhishekmarutikarennavar/Library/Python/3.9/lib/python/site-packages (from pydantic>=2->ydata-profiling) (2.41.4)\n",
      "Requirement already satisfied: typing-inspection>=0.4.2 in /Users/abhishekmarutikarennavar/Library/Python/3.9/lib/python/site-packages (from pydantic>=2->ydata-profiling) (0.4.2)\n",
      "Requirement already satisfied: six>=1.5 in /Library/Developer/CommandLineTools/Library/Frameworks/Python3.framework/Versions/3.9/lib/python3.9/site-packages (from python-dateutil>=2.7->matplotlib<=3.10,>=3.5->ydata-profiling) (1.15.0)\n",
      "\n",
      "\u001b[1m[\u001b[0m\u001b[34;49mnotice\u001b[0m\u001b[1;39;49m]\u001b[0m\u001b[39;49m A new release of pip is available: \u001b[0m\u001b[31;49m25.1.1\u001b[0m\u001b[39;49m -> \u001b[0m\u001b[32;49m25.2\u001b[0m\n",
      "\u001b[1m[\u001b[0m\u001b[34;49mnotice\u001b[0m\u001b[1;39;49m]\u001b[0m\u001b[39;49m To update, run: \u001b[0m\u001b[32;49m/Library/Developer/CommandLineTools/usr/bin/python3 -m pip install --upgrade pip\u001b[0m\n",
      "Note: you may need to restart the kernel to use updated packages.\n"
     ]
    }
   ],
   "source": [
    "%pip install ydata-profiling\n"
   ]
  },
  {
   "cell_type": "code",
   "execution_count": 7,
   "id": "cee0e5f1",
   "metadata": {},
   "outputs": [
    {
     "name": "stdout",
     "output_type": "stream",
     "text": [
      "zsh:1: no matches found: ydata-profiling[notebook]\n",
      "Note: you may need to restart the kernel to use updated packages.\n"
     ]
    }
   ],
   "source": [
    "%pip install ydata-profiling[notebook]"
   ]
  },
  {
   "cell_type": "code",
   "execution_count": 8,
   "id": "409e16a9",
   "metadata": {},
   "outputs": [
    {
     "data": {
      "text/html": [
       "<div>\n",
       "<style scoped>\n",
       "    .dataframe tbody tr th:only-of-type {\n",
       "        vertical-align: middle;\n",
       "    }\n",
       "\n",
       "    .dataframe tbody tr th {\n",
       "        vertical-align: top;\n",
       "    }\n",
       "\n",
       "    .dataframe thead th {\n",
       "        text-align: right;\n",
       "    }\n",
       "</style>\n",
       "<table border=\"1\" class=\"dataframe\">\n",
       "  <thead>\n",
       "    <tr style=\"text-align: right;\">\n",
       "      <th></th>\n",
       "      <th>w</th>\n",
       "      <th>x</th>\n",
       "      <th>y</th>\n",
       "    </tr>\n",
       "  </thead>\n",
       "  <tbody>\n",
       "    <tr>\n",
       "      <th>count</th>\n",
       "      <td>20000000.00</td>\n",
       "      <td>2.000000e+07</td>\n",
       "      <td>2.000000e+07</td>\n",
       "    </tr>\n",
       "    <tr>\n",
       "      <th>mean</th>\n",
       "      <td>1.25</td>\n",
       "      <td>1.932018e-03</td>\n",
       "      <td>3.217461e-04</td>\n",
       "    </tr>\n",
       "    <tr>\n",
       "      <th>std</th>\n",
       "      <td>0.25</td>\n",
       "      <td>5.773224e+00</td>\n",
       "      <td>7.066617e-01</td>\n",
       "    </tr>\n",
       "    <tr>\n",
       "      <th>min</th>\n",
       "      <td>1.00</td>\n",
       "      <td>-9.999999e+00</td>\n",
       "      <td>-1.234537e+00</td>\n",
       "    </tr>\n",
       "    <tr>\n",
       "      <th>25%</th>\n",
       "      <td>1.00</td>\n",
       "      <td>-4.994879e+00</td>\n",
       "      <td>-7.021526e-01</td>\n",
       "    </tr>\n",
       "    <tr>\n",
       "      <th>50%</th>\n",
       "      <td>1.25</td>\n",
       "      <td>3.493993e-03</td>\n",
       "      <td>7.399303e-04</td>\n",
       "    </tr>\n",
       "    <tr>\n",
       "      <th>75%</th>\n",
       "      <td>1.50</td>\n",
       "      <td>5.001802e+00</td>\n",
       "      <td>7.027593e-01</td>\n",
       "    </tr>\n",
       "    <tr>\n",
       "      <th>max</th>\n",
       "      <td>1.50</td>\n",
       "      <td>9.999999e+00</td>\n",
       "      <td>1.224020e+00</td>\n",
       "    </tr>\n",
       "  </tbody>\n",
       "</table>\n",
       "</div>"
      ],
      "text/plain": [
       "                 w             x             y\n",
       "count  20000000.00  2.000000e+07  2.000000e+07\n",
       "mean          1.25  1.932018e-03  3.217461e-04\n",
       "std           0.25  5.773224e+00  7.066617e-01\n",
       "min           1.00 -9.999999e+00 -1.234537e+00\n",
       "25%           1.00 -4.994879e+00 -7.021526e-01\n",
       "50%           1.25  3.493993e-03  7.399303e-04\n",
       "75%           1.50  5.001802e+00  7.027593e-01\n",
       "max           1.50  9.999999e+00  1.224020e+00"
      ]
     },
     "execution_count": 8,
     "metadata": {},
     "output_type": "execute_result"
    }
   ],
   "source": [
    "df[df['w'].between(1, 1.5)].describe()"
   ]
  },
  {
   "cell_type": "code",
   "execution_count": 16,
   "id": "02c6cf45",
   "metadata": {},
   "outputs": [],
   "source": [
    "n = df[df['w'] == 1].value_counts().to_numpy()"
   ]
  },
  {
   "cell_type": "code",
   "execution_count": 17,
   "id": "b15c4e6c",
   "metadata": {},
   "outputs": [],
   "source": [
    "import matplotlib.pyplot as plt"
   ]
  },
  {
   "cell_type": "code",
   "execution_count": 18,
   "id": "ed322be0",
   "metadata": {},
   "outputs": [],
   "source": [
    "n_x = df[df['w'] == 1].to_numpy()"
   ]
  },
  {
   "cell_type": "code",
   "execution_count": 19,
   "id": "51e896e8",
   "metadata": {},
   "outputs": [
    {
     "data": {
      "text/plain": [
       "[<matplotlib.lines.Line2D at 0x110b08a30>,\n",
       " <matplotlib.lines.Line2D at 0x110b08df0>,\n",
       " <matplotlib.lines.Line2D at 0x10f45f580>]"
      ]
     },
     "execution_count": 19,
     "metadata": {},
     "output_type": "execute_result"
    },
    {
     "data": {
      "image/png": "[encoded data removed]",
      "text/plain": [
       "<Figure size 640x480 with 1 Axes>"
      ]
     },
     "metadata": {},
     "output_type": "display_data"
    }
   ],
   "source": [
    "plt.plot(n_x, n)"
   ]
  },
  {
   "cell_type": "code",
   "execution_count": 20,
   "id": "25168b02",
   "metadata": {},
   "outputs": [],
   "source": [
    "plt.show()"
   ]
  },
  {
   "cell_type": "markdown",
   "id": "925f3af2",
   "metadata": {},
   "source": [
    "Leaving realizing that last minute try doesn't work..."
   ]
  },
  {
   "cell_type": "code",
   "execution_count": null,
   "id": "6b7848d0",
   "metadata": {},
   "outputs": [],
   "source": []
  }
 ],
 "metadata": {
  "kernelspec": {
   "display_name": "Python 3",
   "language": "python",
   "name": "python3"
  },
  "language_info": {
   "codemirror_mode": {
    "name": "ipython",
    "version": 3
   },
   "file_extension": ".py",
   "mimetype": "text/x-python",
   "name": "python",
   "nbconvert_exporter": "python",
   "pygments_lexer": "ipython3",
   "version": "3.9.6"
  }
 },
 "nbformat": 4,
 "nbformat_minor": 5
}
